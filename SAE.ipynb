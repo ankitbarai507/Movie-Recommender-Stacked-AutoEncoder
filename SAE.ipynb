{
  "nbformat": 4,
  "nbformat_minor": 0,
  "metadata": {
    "colab": {
      "name": "SAE.ipynb",
      "provenance": []
    },
    "kernelspec": {
      "name": "python3",
      "display_name": "Python 3"
    }
  },
  "cells": [
    {
      "cell_type": "code",
      "metadata": {
        "id": "ioRwShZznzX4",
        "colab_type": "code",
        "outputId": "20a71567-9c80-4728-a959-c6993970bf96",
        "colab": {
          "base_uri": "https://localhost:8080/",
          "height": 121
        }
      },
      "source": [
        "from google.colab import drive\n",
        "drive.mount('/content/drive')"
      ],
      "execution_count": 0,
      "outputs": [
        {
          "output_type": "stream",
          "text": [
            "Go to this URL in a browser: https://accounts.google.com/o/oauth2/auth?client_id=947318989803-6bn6qk8qdgf4n4g3pfee6491hc0brc4i.apps.googleusercontent.com&redirect_uri=urn%3aietf%3awg%3aoauth%3a2.0%3aoob&response_type=code&scope=email%20https%3a%2f%2fwww.googleapis.com%2fauth%2fdocs.test%20https%3a%2f%2fwww.googleapis.com%2fauth%2fdrive%20https%3a%2f%2fwww.googleapis.com%2fauth%2fdrive.photos.readonly%20https%3a%2f%2fwww.googleapis.com%2fauth%2fpeopleapi.readonly\n",
            "\n",
            "Enter your authorization code:\n",
            "··········\n",
            "Mounted at /content/drive\n"
          ],
          "name": "stdout"
        }
      ]
    },
    {
      "cell_type": "markdown",
      "metadata": {
        "id": "_ILiZO2prmh3",
        "colab_type": "text"
      },
      "source": [
        "Two types of recommenders <br>\n",
        "Recommend movies whether User likes a given movie or Not  (RBM)<br>\n",
        "Find ratings for movies ; finding rating for a movie by given user\n",
        "\n"
      ]
    },
    {
      "cell_type": "code",
      "metadata": {
        "id": "SWHMrJuurvwT",
        "colab_type": "code",
        "colab": {}
      },
      "source": [
        "# Boltzmann Machines\n",
        "\n",
        "# Importing the libraries\n",
        "import numpy as np\n",
        "import pandas as pd\n",
        "import torch\n",
        "import torch.nn as nn\n",
        "import torch.nn.parallel\n",
        "import torch.optim as optim\n",
        "import torch.utils.data\n",
        "from torch.autograd import Variable"
      ],
      "execution_count": 0,
      "outputs": []
    },
    {
      "cell_type": "code",
      "metadata": {
        "id": "d63yaTI5r6T9",
        "colab_type": "code",
        "colab": {}
      },
      "source": [
        "# Importing the dataset\n",
        "movies = pd.read_csv('/content/drive/My Drive/Colab Notebooks/Boltzmann_Machines/ml-1m/movies.dat', sep = '::', header = None, engine = 'python', encoding = 'latin-1')\n",
        "users = pd.read_csv('/content/drive/My Drive/Colab Notebooks/Boltzmann_Machines/ml-1m/users.dat', sep = '::', header = None, engine = 'python', encoding = 'latin-1')\n",
        "ratings = pd.read_csv('/content/drive/My Drive/Colab Notebooks/Boltzmann_Machines/ml-1m/ratings.dat', sep = '::', header = None, engine = 'python', encoding = 'latin-1')\n",
        "\n",
        "# Preparing the training set and the test set\n",
        "training_set = pd.read_csv('/content/drive/My Drive/Colab Notebooks/Boltzmann_Machines/ml-100k/u1.base', delimiter = '\\t')\n",
        "training_set = np.array(training_set, dtype = 'int')\n",
        "test_set = pd.read_csv('/content/drive/My Drive/Colab Notebooks/Boltzmann_Machines/ml-100k/u1.test', delimiter = '\\t')\n",
        "test_set = np.array(test_set, dtype = 'int')"
      ],
      "execution_count": 0,
      "outputs": []
    },
    {
      "cell_type": "code",
      "metadata": {
        "id": "X0c1Qo1Js92e",
        "colab_type": "code",
        "colab": {}
      },
      "source": [
        ""
      ],
      "execution_count": 0,
      "outputs": []
    },
    {
      "cell_type": "markdown",
      "metadata": {
        "id": "v-51sWLoub8a",
        "colab_type": "text"
      },
      "source": [
        "several train test splits in 100k datasets"
      ]
    },
    {
      "cell_type": "code",
      "metadata": {
        "id": "dgaGMyZfvp5F",
        "colab_type": "code",
        "colab": {}
      },
      "source": [
        "# Getting the number of users and movies\n",
        "nb_users = int(max(max(training_set[:,0]), max(test_set[:,0])))\n",
        "nb_movies = int(max(max(training_set[:,1]), max(test_set[:,1])))"
      ],
      "execution_count": 0,
      "outputs": []
    },
    {
      "cell_type": "code",
      "metadata": {
        "id": "oRVQpZ1zvq-J",
        "colab_type": "code",
        "colab": {}
      },
      "source": [
        "# Converting the data into an array with users in lines and movies in columns\n",
        "def convert(data):\n",
        "    new_data = []\n",
        "    for id_users in range(1, nb_users + 1):\n",
        "        id_movies = data[:,1][data[:,0] == id_users]\n",
        "        id_ratings = data[:,2][data[:,0] == id_users]\n",
        "        ratings = np.zeros(nb_movies)\n",
        "        ratings[id_movies - 1] = id_ratings\n",
        "        new_data.append(list(ratings))\n",
        "    return new_data\n",
        "training_set = convert(training_set)\n",
        "test_set = convert(test_set)\n"
      ],
      "execution_count": 0,
      "outputs": []
    },
    {
      "cell_type": "code",
      "metadata": {
        "id": "N-1-KpLXXj-M",
        "colab_type": "code",
        "colab": {}
      },
      "source": [
        "# Converting the data into Torch tensors\n",
        "training_set = torch.FloatTensor(training_set)\n",
        "test_set = torch.FloatTensor(test_set)"
      ],
      "execution_count": 0,
      "outputs": []
    },
    {
      "cell_type": "code",
      "metadata": {
        "id": "wv2JT6wyXnF9",
        "colab_type": "code",
        "colab": {}
      },
      "source": [
        "# Creating the architecture of the Neural Network\n",
        "class SAE(nn.Module):\n",
        "    def __init__(self, ):\n",
        "        super(SAE, self).__init__()\n",
        "        self.fc1 = nn.Linear(nb_movies, 20)  #fc1 is first full connection 20 is no of neurons in hidden layer\n",
        "        self.fc2 = nn.Linear(20, 10)\n",
        "        self.fc3 = nn.Linear(10, 20)\n",
        "        self.fc4 = nn.Linear(20, nb_movies)\n",
        "        self.activation = nn.Sigmoid()\n",
        "    def forward(self, x):\n",
        "        x = self.activation(self.fc1(x))\n",
        "        x = self.activation(self.fc2(x))\n",
        "        x = self.activation(self.fc3(x))\n",
        "        x = self.fc4(x)\n",
        "        return x\n",
        "sae = SAE()\n",
        "criterion = nn.MSELoss()\n",
        "optimizer = optim.RMSprop(sae.parameters(), lr = 0.01, weight_decay = 0.5)\n"
      ],
      "execution_count": 0,
      "outputs": []
    },
    {
      "cell_type": "code",
      "metadata": {
        "id": "qhvIyncNeIYK",
        "colab_type": "code",
        "outputId": "08f9d1d6-601c-45b0-e842-d4ea7931833b",
        "colab": {
          "base_uri": "https://localhost:8080/",
          "height": 1000
        }
      },
      "source": [
        "# Training the SAE\n",
        "nb_epoch = 200\n",
        "for epoch in range(1, nb_epoch + 1):\n",
        "    train_loss = 0\n",
        "    s = 0.\n",
        "    for id_user in range(nb_users):\n",
        "        input = Variable(training_set[id_user]).unsqueeze(0)\n",
        "        target = input.clone()\n",
        "        if torch.sum(target.data > 0) > 0:\n",
        "            output = sae(input)\n",
        "            target.require_grad = False\n",
        "            output[target == 0] = 0\n",
        "            loss = criterion(output, target)\n",
        "            mean_corrector = nb_movies/float(torch.sum(target.data > 0) + 1e-10)\n",
        "            loss.backward()\n",
        "            train_loss += np.sqrt(loss.data * mean_corrector)\n",
        "            s += 1.\n",
        "            optimizer.step()\n",
        "    print('epoch: '+str(epoch)+' loss: '+str(train_loss/s))\n"
      ],
      "execution_count": 0,
      "outputs": [
        {
          "output_type": "stream",
          "text": [
            "epoch: 1 loss: tensor(1.7710)\n",
            "epoch: 2 loss: tensor(1.0965)\n",
            "epoch: 3 loss: tensor(1.0536)\n",
            "epoch: 4 loss: tensor(1.0384)\n",
            "epoch: 5 loss: tensor(1.0308)\n",
            "epoch: 6 loss: tensor(1.0266)\n",
            "epoch: 7 loss: tensor(1.0238)\n",
            "epoch: 8 loss: tensor(1.0221)\n",
            "epoch: 9 loss: tensor(1.0206)\n",
            "epoch: 10 loss: tensor(1.0198)\n",
            "epoch: 11 loss: tensor(1.0189)\n",
            "epoch: 12 loss: tensor(1.0183)\n",
            "epoch: 13 loss: tensor(1.0181)\n",
            "epoch: 14 loss: tensor(1.0174)\n",
            "epoch: 15 loss: tensor(1.0173)\n",
            "epoch: 16 loss: tensor(1.0168)\n",
            "epoch: 17 loss: tensor(1.0169)\n",
            "epoch: 18 loss: tensor(1.0164)\n",
            "epoch: 19 loss: tensor(1.0164)\n",
            "epoch: 20 loss: tensor(1.0161)\n",
            "epoch: 21 loss: tensor(1.0161)\n",
            "epoch: 22 loss: tensor(1.0160)\n",
            "epoch: 23 loss: tensor(1.0160)\n",
            "epoch: 24 loss: tensor(1.0158)\n",
            "epoch: 25 loss: tensor(1.0160)\n",
            "epoch: 26 loss: tensor(1.0156)\n",
            "epoch: 27 loss: tensor(1.0155)\n",
            "epoch: 28 loss: tensor(1.0149)\n",
            "epoch: 29 loss: tensor(1.0132)\n",
            "epoch: 30 loss: tensor(1.0116)\n",
            "epoch: 31 loss: tensor(1.0088)\n",
            "epoch: 32 loss: tensor(1.0071)\n",
            "epoch: 33 loss: tensor(1.0050)\n",
            "epoch: 34 loss: tensor(1.0046)\n",
            "epoch: 35 loss: tensor(1.0010)\n",
            "epoch: 36 loss: tensor(1.0005)\n",
            "epoch: 37 loss: tensor(0.9966)\n",
            "epoch: 38 loss: tensor(0.9965)\n",
            "epoch: 39 loss: tensor(0.9932)\n",
            "epoch: 40 loss: tensor(0.9917)\n",
            "epoch: 41 loss: tensor(0.9918)\n",
            "epoch: 42 loss: tensor(0.9894)\n",
            "epoch: 43 loss: tensor(0.9875)\n",
            "epoch: 44 loss: tensor(0.9851)\n",
            "epoch: 45 loss: tensor(0.9853)\n",
            "epoch: 46 loss: tensor(0.9849)\n",
            "epoch: 47 loss: tensor(0.9831)\n",
            "epoch: 48 loss: tensor(0.9817)\n",
            "epoch: 49 loss: tensor(0.9743)\n",
            "epoch: 50 loss: tensor(0.9772)\n",
            "epoch: 51 loss: tensor(0.9721)\n",
            "epoch: 52 loss: tensor(0.9742)\n",
            "epoch: 53 loss: tensor(0.9697)\n",
            "epoch: 54 loss: tensor(0.9689)\n",
            "epoch: 55 loss: tensor(0.9651)\n",
            "epoch: 56 loss: tensor(0.9665)\n",
            "epoch: 57 loss: tensor(0.9627)\n",
            "epoch: 58 loss: tensor(0.9659)\n",
            "epoch: 59 loss: tensor(0.9639)\n",
            "epoch: 60 loss: tensor(0.9645)\n",
            "epoch: 61 loss: tensor(0.9653)\n",
            "epoch: 62 loss: tensor(0.9709)\n",
            "epoch: 63 loss: tensor(0.9680)\n",
            "epoch: 64 loss: tensor(0.9698)\n",
            "epoch: 65 loss: tensor(0.9729)\n",
            "epoch: 66 loss: tensor(0.9682)\n",
            "epoch: 67 loss: tensor(0.9673)\n",
            "epoch: 68 loss: tensor(0.9638)\n",
            "epoch: 69 loss: tensor(0.9630)\n",
            "epoch: 70 loss: tensor(0.9612)\n",
            "epoch: 71 loss: tensor(0.9561)\n",
            "epoch: 72 loss: tensor(0.9606)\n",
            "epoch: 73 loss: tensor(0.9622)\n",
            "epoch: 74 loss: tensor(0.9684)\n",
            "epoch: 75 loss: tensor(0.9682)\n",
            "epoch: 76 loss: tensor(0.9667)\n",
            "epoch: 77 loss: tensor(0.9646)\n",
            "epoch: 78 loss: tensor(0.9605)\n",
            "epoch: 79 loss: tensor(0.9603)\n",
            "epoch: 80 loss: tensor(0.9579)\n",
            "epoch: 81 loss: tensor(0.9566)\n",
            "epoch: 82 loss: tensor(0.9584)\n",
            "epoch: 83 loss: tensor(0.9575)\n",
            "epoch: 84 loss: tensor(0.9571)\n",
            "epoch: 85 loss: tensor(0.9592)\n",
            "epoch: 86 loss: tensor(0.9577)\n",
            "epoch: 87 loss: tensor(0.9556)\n",
            "epoch: 88 loss: tensor(0.9546)\n",
            "epoch: 89 loss: tensor(0.9549)\n",
            "epoch: 90 loss: tensor(0.9558)\n",
            "epoch: 91 loss: tensor(0.9595)\n",
            "epoch: 92 loss: tensor(0.9586)\n",
            "epoch: 93 loss: tensor(0.9543)\n",
            "epoch: 94 loss: tensor(0.9510)\n",
            "epoch: 95 loss: tensor(0.9480)\n",
            "epoch: 96 loss: tensor(0.9453)\n",
            "epoch: 97 loss: tensor(0.9463)\n",
            "epoch: 98 loss: tensor(0.9460)\n",
            "epoch: 99 loss: tensor(0.9436)\n",
            "epoch: 100 loss: tensor(0.9430)\n",
            "epoch: 101 loss: tensor(0.9401)\n",
            "epoch: 102 loss: tensor(0.9411)\n",
            "epoch: 103 loss: tensor(0.9390)\n",
            "epoch: 104 loss: tensor(0.9390)\n",
            "epoch: 105 loss: tensor(0.9368)\n",
            "epoch: 106 loss: tensor(0.9374)\n",
            "epoch: 107 loss: tensor(0.9351)\n",
            "epoch: 108 loss: tensor(0.9368)\n",
            "epoch: 109 loss: tensor(0.9344)\n",
            "epoch: 110 loss: tensor(0.9341)\n",
            "epoch: 111 loss: tensor(0.9326)\n",
            "epoch: 112 loss: tensor(0.9332)\n",
            "epoch: 113 loss: tensor(0.9328)\n",
            "epoch: 114 loss: tensor(0.9340)\n",
            "epoch: 115 loss: tensor(0.9308)\n",
            "epoch: 116 loss: tensor(0.9317)\n",
            "epoch: 117 loss: tensor(0.9308)\n",
            "epoch: 118 loss: tensor(0.9327)\n",
            "epoch: 119 loss: tensor(0.9291)\n",
            "epoch: 120 loss: tensor(0.9304)\n",
            "epoch: 121 loss: tensor(0.9283)\n",
            "epoch: 122 loss: tensor(0.9299)\n",
            "epoch: 123 loss: tensor(0.9275)\n",
            "epoch: 124 loss: tensor(0.9287)\n",
            "epoch: 125 loss: tensor(0.9267)\n",
            "epoch: 126 loss: tensor(0.9283)\n",
            "epoch: 127 loss: tensor(0.9261)\n",
            "epoch: 128 loss: tensor(0.9277)\n",
            "epoch: 129 loss: tensor(0.9255)\n",
            "epoch: 130 loss: tensor(0.9267)\n",
            "epoch: 131 loss: tensor(0.9247)\n",
            "epoch: 132 loss: tensor(0.9264)\n",
            "epoch: 133 loss: tensor(0.9247)\n",
            "epoch: 134 loss: tensor(0.9255)\n",
            "epoch: 135 loss: tensor(0.9238)\n",
            "epoch: 136 loss: tensor(0.9253)\n",
            "epoch: 137 loss: tensor(0.9235)\n",
            "epoch: 138 loss: tensor(0.9250)\n",
            "epoch: 139 loss: tensor(0.9227)\n",
            "epoch: 140 loss: tensor(0.9237)\n",
            "epoch: 141 loss: tensor(0.9220)\n",
            "epoch: 142 loss: tensor(0.9233)\n",
            "epoch: 143 loss: tensor(0.9215)\n",
            "epoch: 144 loss: tensor(0.9228)\n",
            "epoch: 145 loss: tensor(0.9210)\n",
            "epoch: 146 loss: tensor(0.9220)\n",
            "epoch: 147 loss: tensor(0.9205)\n",
            "epoch: 148 loss: tensor(0.9211)\n",
            "epoch: 149 loss: tensor(0.9202)\n",
            "epoch: 150 loss: tensor(0.9212)\n",
            "epoch: 151 loss: tensor(0.9198)\n",
            "epoch: 152 loss: tensor(0.9204)\n",
            "epoch: 153 loss: tensor(0.9195)\n",
            "epoch: 154 loss: tensor(0.9202)\n",
            "epoch: 155 loss: tensor(0.9191)\n",
            "epoch: 156 loss: tensor(0.9194)\n",
            "epoch: 157 loss: tensor(0.9184)\n",
            "epoch: 158 loss: tensor(0.9191)\n",
            "epoch: 159 loss: tensor(0.9181)\n",
            "epoch: 160 loss: tensor(0.9187)\n",
            "epoch: 161 loss: tensor(0.9177)\n",
            "epoch: 162 loss: tensor(0.9182)\n",
            "epoch: 163 loss: tensor(0.9173)\n",
            "epoch: 164 loss: tensor(0.9178)\n",
            "epoch: 165 loss: tensor(0.9168)\n",
            "epoch: 166 loss: tensor(0.9173)\n",
            "epoch: 167 loss: tensor(0.9163)\n",
            "epoch: 168 loss: tensor(0.9167)\n",
            "epoch: 169 loss: tensor(0.9158)\n",
            "epoch: 170 loss: tensor(0.9165)\n",
            "epoch: 171 loss: tensor(0.9155)\n",
            "epoch: 172 loss: tensor(0.9163)\n",
            "epoch: 173 loss: tensor(0.9155)\n",
            "epoch: 174 loss: tensor(0.9160)\n",
            "epoch: 175 loss: tensor(0.9150)\n",
            "epoch: 176 loss: tensor(0.9155)\n",
            "epoch: 177 loss: tensor(0.9150)\n",
            "epoch: 178 loss: tensor(0.9158)\n",
            "epoch: 179 loss: tensor(0.9147)\n",
            "epoch: 180 loss: tensor(0.9153)\n",
            "epoch: 181 loss: tensor(0.9142)\n",
            "epoch: 182 loss: tensor(0.9149)\n",
            "epoch: 183 loss: tensor(0.9138)\n",
            "epoch: 184 loss: tensor(0.9147)\n",
            "epoch: 185 loss: tensor(0.9138)\n",
            "epoch: 186 loss: tensor(0.9144)\n",
            "epoch: 187 loss: tensor(0.9133)\n",
            "epoch: 188 loss: tensor(0.9140)\n",
            "epoch: 189 loss: tensor(0.9131)\n",
            "epoch: 190 loss: tensor(0.9139)\n",
            "epoch: 191 loss: tensor(0.9127)\n",
            "epoch: 192 loss: tensor(0.9133)\n",
            "epoch: 193 loss: tensor(0.9125)\n",
            "epoch: 194 loss: tensor(0.9133)\n",
            "epoch: 195 loss: tensor(0.9124)\n",
            "epoch: 196 loss: tensor(0.9134)\n",
            "epoch: 197 loss: tensor(0.9122)\n",
            "epoch: 198 loss: tensor(0.9132)\n",
            "epoch: 199 loss: tensor(0.9120)\n",
            "epoch: 200 loss: tensor(0.9125)\n"
          ],
          "name": "stdout"
        }
      ]
    },
    {
      "cell_type": "code",
      "metadata": {
        "id": "SHWQdOgBeeSR",
        "colab_type": "code",
        "outputId": "7f4c0825-3eb3-415c-cf99-6ccc1dabcdf9",
        "colab": {
          "base_uri": "https://localhost:8080/",
          "height": 87
        }
      },
      "source": [
        "# Testing the SAE\n",
        "test_loss = 0\n",
        "s = 0.\n",
        "for id_user in range(nb_users):\n",
        "    input = Variable(training_set[id_user]).unsqueeze(0)\n",
        "    target = Variable(test_set[id_user])\n",
        "    if torch.sum(target.data > 0) > 0:\n",
        "        output = sae(input)\n",
        "        target.require_grad = False\n",
        "        output[(target == 0).unsqueeze(0)] = 0\n",
        "        loss = criterion(output, target)\n",
        "        mean_corrector = nb_movies/float(torch.sum(target.data > 0) + 1e-10)\n",
        "        test_loss += np.sqrt(loss.data*mean_corrector)\n",
        "        s += 1.\n",
        "print('test loss: '+str(test_loss/s))"
      ],
      "execution_count": 0,
      "outputs": [
        {
          "output_type": "stream",
          "text": [
            "/usr/local/lib/python3.6/dist-packages/torch/nn/modules/loss.py:431: UserWarning: Using a target size (torch.Size([1682])) that is different to the input size (torch.Size([1, 1682])). This will likely lead to incorrect results due to broadcasting. Please ensure they have the same size.\n",
            "  return F.mse_loss(input, target, reduction=self.reduction)\n"
          ],
          "name": "stderr"
        },
        {
          "output_type": "stream",
          "text": [
            "test loss: tensor(0.9507)\n"
          ],
          "name": "stdout"
        }
      ]
    },
    {
      "cell_type": "code",
      "metadata": {
        "id": "YmKqOtr9mTLI",
        "colab_type": "code",
        "colab": {}
      },
      "source": [
        ""
      ],
      "execution_count": 0,
      "outputs": []
    }
  ]
}